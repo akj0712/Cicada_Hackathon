{
  "nbformat": 4,
  "nbformat_minor": 0,
  "metadata": {
    "colab": {
      "provenance": [],
      "authorship_tag": "ABX9TyPVx5i7hUs5ov8VTJ2IGvJt",
      "include_colab_link": true
    },
    "kernelspec": {
      "name": "python3",
      "display_name": "Python 3"
    },
    "language_info": {
      "name": "python"
    }
  },
  "cells": [
    {
      "cell_type": "markdown",
      "metadata": {
        "id": "view-in-github",
        "colab_type": "text"
      },
      "source": [
        "<a href=\"https://colab.research.google.com/github/Ayush8795/Cicada_Hackathon/blob/main/NumericalData.ipynb\" target=\"_parent\"><img src=\"https://colab.research.google.com/assets/colab-badge.svg\" alt=\"Open In Colab\"/></a>"
      ]
    },
    {
      "cell_type": "code",
      "execution_count": null,
      "metadata": {
        "id": "p2Ix6mXk3a2t"
      },
      "outputs": [],
      "source": []
    },
    {
      "cell_type": "markdown",
      "source": [
        "##Numerical Data File\n"
      ],
      "metadata": {
        "id": "InVtuh2M0wMv"
      }
    },
    {
      "cell_type": "code",
      "source": [
        "pip install git+https://github.com/faustomorales/keras-ocr.git#egg=keras-ocr"
      ],
      "metadata": {
        "id": "OGEPCj9rtTwS",
        "colab": {
          "base_uri": "https://localhost:8080/"
        },
        "outputId": "93972bb6-ea4b-4c36-9d82-459ebb7599be"
      },
      "execution_count": null,
      "outputs": [
        {
          "output_type": "stream",
          "name": "stdout",
          "text": [
            "Looking in indexes: https://pypi.org/simple, https://us-python.pkg.dev/colab-wheels/public/simple/\n",
            "Collecting keras-ocr\n",
            "  Cloning https://github.com/faustomorales/keras-ocr.git to /tmp/pip-install-wqw46z7m/keras-ocr_bb50a0dbd8d94317adfdc829f20a40fb\n",
            "  Running command git clone -q https://github.com/faustomorales/keras-ocr.git /tmp/pip-install-wqw46z7m/keras-ocr_bb50a0dbd8d94317adfdc829f20a40fb\n",
            "  Installing build dependencies ... \u001b[?25l\u001b[?25hdone\n",
            "  Getting requirements to build wheel ... \u001b[?25l\u001b[?25hdone\n",
            "    Preparing wheel metadata ... \u001b[?25l\u001b[?25hdone\n",
            "Collecting pyclipper\n",
            "  Downloading pyclipper-1.3.0.post4-cp37-cp37m-manylinux_2_5_x86_64.manylinux1_x86_64.whl (604 kB)\n",
            "\u001b[K     |████████████████████████████████| 604 kB 4.8 MB/s \n",
            "\u001b[?25hCollecting essential_generators\n",
            "  Downloading essential_generators-1.0-py3-none-any.whl (9.5 MB)\n",
            "\u001b[K     |████████████████████████████████| 9.5 MB 62.7 MB/s \n",
            "\u001b[?25hRequirement already satisfied: imgaug in /usr/local/lib/python3.7/dist-packages (from keras-ocr) (0.4.0)\n",
            "Requirement already satisfied: tqdm in /usr/local/lib/python3.7/dist-packages (from keras-ocr) (4.64.1)\n",
            "Collecting validators\n",
            "  Downloading validators-0.20.0.tar.gz (30 kB)\n",
            "Requirement already satisfied: shapely in /usr/local/lib/python3.7/dist-packages (from keras-ocr) (1.8.5.post1)\n",
            "Collecting fonttools\n",
            "  Downloading fonttools-4.38.0-py3-none-any.whl (965 kB)\n",
            "\u001b[K     |████████████████████████████████| 965 kB 49.4 MB/s \n",
            "\u001b[?25hCollecting efficientnet==1.0.0\n",
            "  Downloading efficientnet-1.0.0-py3-none-any.whl (17 kB)\n",
            "Requirement already satisfied: editdistance in /usr/local/lib/python3.7/dist-packages (from keras-ocr) (0.5.3)\n",
            "Collecting keras-applications<=1.0.8,>=1.0.7\n",
            "  Downloading Keras_Applications-1.0.8-py3-none-any.whl (50 kB)\n",
            "\u001b[K     |████████████████████████████████| 50 kB 9.0 MB/s \n",
            "\u001b[?25hRequirement already satisfied: scikit-image in /usr/local/lib/python3.7/dist-packages (from efficientnet==1.0.0->keras-ocr) (0.18.3)\n",
            "Requirement already satisfied: numpy>=1.9.1 in /usr/local/lib/python3.7/dist-packages (from keras-applications<=1.0.8,>=1.0.7->efficientnet==1.0.0->keras-ocr) (1.21.6)\n",
            "Requirement already satisfied: h5py in /usr/local/lib/python3.7/dist-packages (from keras-applications<=1.0.8,>=1.0.7->efficientnet==1.0.0->keras-ocr) (3.1.0)\n",
            "Requirement already satisfied: cached-property in /usr/local/lib/python3.7/dist-packages (from h5py->keras-applications<=1.0.8,>=1.0.7->efficientnet==1.0.0->keras-ocr) (1.5.2)\n",
            "Requirement already satisfied: opencv-python in /usr/local/lib/python3.7/dist-packages (from imgaug->keras-ocr) (4.6.0.66)\n",
            "Requirement already satisfied: Pillow in /usr/local/lib/python3.7/dist-packages (from imgaug->keras-ocr) (7.1.2)\n",
            "Requirement already satisfied: scipy in /usr/local/lib/python3.7/dist-packages (from imgaug->keras-ocr) (1.7.3)\n",
            "Requirement already satisfied: six in /usr/local/lib/python3.7/dist-packages (from imgaug->keras-ocr) (1.15.0)\n",
            "Requirement already satisfied: matplotlib in /usr/local/lib/python3.7/dist-packages (from imgaug->keras-ocr) (3.2.2)\n",
            "Requirement already satisfied: imageio in /usr/local/lib/python3.7/dist-packages (from imgaug->keras-ocr) (2.9.0)\n",
            "Requirement already satisfied: PyWavelets>=1.1.1 in /usr/local/lib/python3.7/dist-packages (from scikit-image->efficientnet==1.0.0->keras-ocr) (1.3.0)\n",
            "Requirement already satisfied: tifffile>=2019.7.26 in /usr/local/lib/python3.7/dist-packages (from scikit-image->efficientnet==1.0.0->keras-ocr) (2021.11.2)\n",
            "Requirement already satisfied: networkx>=2.0 in /usr/local/lib/python3.7/dist-packages (from scikit-image->efficientnet==1.0.0->keras-ocr) (2.6.3)\n",
            "Requirement already satisfied: cycler>=0.10 in /usr/local/lib/python3.7/dist-packages (from matplotlib->imgaug->keras-ocr) (0.11.0)\n",
            "Requirement already satisfied: python-dateutil>=2.1 in /usr/local/lib/python3.7/dist-packages (from matplotlib->imgaug->keras-ocr) (2.8.2)\n",
            "Requirement already satisfied: kiwisolver>=1.0.1 in /usr/local/lib/python3.7/dist-packages (from matplotlib->imgaug->keras-ocr) (1.4.4)\n",
            "Requirement already satisfied: pyparsing!=2.0.4,!=2.1.2,!=2.1.6,>=2.0.1 in /usr/local/lib/python3.7/dist-packages (from matplotlib->imgaug->keras-ocr) (3.0.9)\n",
            "Requirement already satisfied: typing-extensions in /usr/local/lib/python3.7/dist-packages (from kiwisolver>=1.0.1->matplotlib->imgaug->keras-ocr) (4.1.1)\n",
            "Requirement already satisfied: decorator>=3.4.0 in /usr/local/lib/python3.7/dist-packages (from validators->keras-ocr) (4.4.2)\n",
            "Building wheels for collected packages: keras-ocr, validators\n",
            "  Building wheel for keras-ocr (PEP 517) ... \u001b[?25l\u001b[?25hdone\n",
            "  Created wheel for keras-ocr: filename=keras_ocr-0.0.0-py3-none-any.whl size=42293 sha256=6d6670d5dee7d9ec21e7a18669d3b28f71bfbbf4d4f60313a08c4fbc61d7ef16\n",
            "  Stored in directory: /tmp/pip-ephem-wheel-cache-72u4p33i/wheels/20/d0/06/ed290995144ec8dde71d3a91d0d590145445c01be60ea70c9b\n",
            "  Building wheel for validators (setup.py) ... \u001b[?25l\u001b[?25hdone\n",
            "  Created wheel for validators: filename=validators-0.20.0-py3-none-any.whl size=19581 sha256=155a6c4b49971a069dad06917ec18aa39ecfcbc11c6b704f82089451b463964b\n",
            "  Stored in directory: /root/.cache/pip/wheels/5f/55/ab/36a76989f7f88d9ca7b1f68da6d94252bb6a8d6ad4f18e04e9\n",
            "Successfully built keras-ocr validators\n",
            "Installing collected packages: keras-applications, validators, pyclipper, fonttools, essential-generators, efficientnet, keras-ocr\n",
            "Successfully installed efficientnet-1.0.0 essential-generators-1.0 fonttools-4.38.0 keras-applications-1.0.8 keras-ocr-0.0.0 pyclipper-1.3.0.post4 validators-0.20.0\n"
          ]
        }
      ]
    },
    {
      "cell_type": "code",
      "source": [
        "pip install keras-ocr"
      ],
      "metadata": {
        "colab": {
          "base_uri": "https://localhost:8080/"
        },
        "id": "Mj7mxGjxCcpx",
        "outputId": "46a4c14b-0dd0-4822-b8bf-365a3f5c5ab9"
      },
      "execution_count": null,
      "outputs": [
        {
          "output_type": "stream",
          "name": "stdout",
          "text": [
            "Looking in indexes: https://pypi.org/simple, https://us-python.pkg.dev/colab-wheels/public/simple/\n",
            "Requirement already satisfied: keras-ocr in /usr/local/lib/python3.7/dist-packages (0.0.0)\n",
            "Requirement already satisfied: shapely in /usr/local/lib/python3.7/dist-packages (from keras-ocr) (1.8.5.post1)\n",
            "Requirement already satisfied: essential_generators in /usr/local/lib/python3.7/dist-packages (from keras-ocr) (1.0)\n",
            "Requirement already satisfied: fonttools in /usr/local/lib/python3.7/dist-packages (from keras-ocr) (4.38.0)\n",
            "Requirement already satisfied: validators in /usr/local/lib/python3.7/dist-packages (from keras-ocr) (0.20.0)\n",
            "Requirement already satisfied: pyclipper in /usr/local/lib/python3.7/dist-packages (from keras-ocr) (1.3.0.post4)\n",
            "Requirement already satisfied: efficientnet==1.0.0 in /usr/local/lib/python3.7/dist-packages (from keras-ocr) (1.0.0)\n",
            "Requirement already satisfied: tqdm in /usr/local/lib/python3.7/dist-packages (from keras-ocr) (4.64.1)\n",
            "Requirement already satisfied: editdistance in /usr/local/lib/python3.7/dist-packages (from keras-ocr) (0.5.3)\n",
            "Requirement already satisfied: imgaug in /usr/local/lib/python3.7/dist-packages (from keras-ocr) (0.4.0)\n",
            "Requirement already satisfied: keras-applications<=1.0.8,>=1.0.7 in /usr/local/lib/python3.7/dist-packages (from efficientnet==1.0.0->keras-ocr) (1.0.8)\n",
            "Requirement already satisfied: scikit-image in /usr/local/lib/python3.7/dist-packages (from efficientnet==1.0.0->keras-ocr) (0.18.3)\n",
            "Requirement already satisfied: h5py in /usr/local/lib/python3.7/dist-packages (from keras-applications<=1.0.8,>=1.0.7->efficientnet==1.0.0->keras-ocr) (3.1.0)\n",
            "Requirement already satisfied: numpy>=1.9.1 in /usr/local/lib/python3.7/dist-packages (from keras-applications<=1.0.8,>=1.0.7->efficientnet==1.0.0->keras-ocr) (1.21.6)\n",
            "Requirement already satisfied: cached-property in /usr/local/lib/python3.7/dist-packages (from h5py->keras-applications<=1.0.8,>=1.0.7->efficientnet==1.0.0->keras-ocr) (1.5.2)\n",
            "Requirement already satisfied: matplotlib in /usr/local/lib/python3.7/dist-packages (from imgaug->keras-ocr) (3.2.2)\n",
            "Requirement already satisfied: imageio in /usr/local/lib/python3.7/dist-packages (from imgaug->keras-ocr) (2.9.0)\n",
            "Requirement already satisfied: opencv-python in /usr/local/lib/python3.7/dist-packages (from imgaug->keras-ocr) (4.6.0.66)\n",
            "Requirement already satisfied: six in /usr/local/lib/python3.7/dist-packages (from imgaug->keras-ocr) (1.15.0)\n",
            "Requirement already satisfied: Pillow in /usr/local/lib/python3.7/dist-packages (from imgaug->keras-ocr) (7.1.2)\n",
            "Requirement already satisfied: scipy in /usr/local/lib/python3.7/dist-packages (from imgaug->keras-ocr) (1.7.3)\n",
            "Requirement already satisfied: tifffile>=2019.7.26 in /usr/local/lib/python3.7/dist-packages (from scikit-image->efficientnet==1.0.0->keras-ocr) (2021.11.2)\n",
            "Requirement already satisfied: PyWavelets>=1.1.1 in /usr/local/lib/python3.7/dist-packages (from scikit-image->efficientnet==1.0.0->keras-ocr) (1.3.0)\n",
            "Requirement already satisfied: networkx>=2.0 in /usr/local/lib/python3.7/dist-packages (from scikit-image->efficientnet==1.0.0->keras-ocr) (2.6.3)\n",
            "Requirement already satisfied: cycler>=0.10 in /usr/local/lib/python3.7/dist-packages (from matplotlib->imgaug->keras-ocr) (0.11.0)\n",
            "Requirement already satisfied: pyparsing!=2.0.4,!=2.1.2,!=2.1.6,>=2.0.1 in /usr/local/lib/python3.7/dist-packages (from matplotlib->imgaug->keras-ocr) (3.0.9)\n",
            "Requirement already satisfied: kiwisolver>=1.0.1 in /usr/local/lib/python3.7/dist-packages (from matplotlib->imgaug->keras-ocr) (1.4.4)\n",
            "Requirement already satisfied: python-dateutil>=2.1 in /usr/local/lib/python3.7/dist-packages (from matplotlib->imgaug->keras-ocr) (2.8.2)\n",
            "Requirement already satisfied: typing-extensions in /usr/local/lib/python3.7/dist-packages (from kiwisolver>=1.0.1->matplotlib->imgaug->keras-ocr) (4.1.1)\n",
            "Requirement already satisfied: decorator>=3.4.0 in /usr/local/lib/python3.7/dist-packages (from validators->keras-ocr) (4.4.2)\n"
          ]
        }
      ]
    },
    {
      "cell_type": "code",
      "source": [
        "import keras_ocr"
      ],
      "metadata": {
        "id": "jpGcIXigCvFp"
      },
      "execution_count": null,
      "outputs": []
    },
    {
      "cell_type": "code",
      "source": [
        "import cv2\n",
        "\n",
        "# img= cv2.imread(\"/content/Screenshot_20221117_102401.png\")"
      ],
      "metadata": {
        "id": "OlGeHea3EklY"
      },
      "execution_count": null,
      "outputs": []
    },
    {
      "cell_type": "code",
      "source": [
        "pipeline = keras_ocr.pipeline.Pipeline()\n"
      ],
      "metadata": {
        "colab": {
          "base_uri": "https://localhost:8080/"
        },
        "id": "zYsmpw7hD-VW",
        "outputId": "56f5ccf0-88b2-482e-90bb-818a49e3894d"
      },
      "execution_count": null,
      "outputs": [
        {
          "output_type": "stream",
          "name": "stdout",
          "text": [
            "Looking for /root/.keras-ocr/craft_mlt_25k.h5\n",
            "Looking for /root/.keras-ocr/crnn_kurapan.h5\n"
          ]
        }
      ]
    },
    {
      "cell_type": "code",
      "source": [
        "path= \"/content/Screenshot_20221117_102401.png\"\n",
        "pred= pipeline.recognize([keras_ocr.tools.read(path)])"
      ],
      "metadata": {
        "colab": {
          "base_uri": "https://localhost:8080/"
        },
        "id": "rZzPDOGePC-d",
        "outputId": "d6644dd3-fe9a-4735-cdf4-d69da334ed1e"
      },
      "execution_count": null,
      "outputs": [
        {
          "output_type": "stream",
          "name": "stdout",
          "text": [
            "1/1 [==============================] - 0s 409ms/step\n",
            "6/6 [==============================] - 2s 71ms/step\n"
          ]
        }
      ]
    },
    {
      "cell_type": "code",
      "source": [
        "pred1= pred[0]"
      ],
      "metadata": {
        "id": "ylewiAcBEVU9"
      },
      "execution_count": null,
      "outputs": []
    },
    {
      "cell_type": "code",
      "source": [
        "data=[]\n",
        "box1=[]"
      ],
      "metadata": {
        "id": "x-ALZxytRVTi"
      },
      "execution_count": null,
      "outputs": []
    },
    {
      "cell_type": "code",
      "source": [
        "for text,box in pred1:\n",
        "  data.append(text)\n",
        "  # box1.append(box)"
      ],
      "metadata": {
        "id": "QsQL4aThFnrp"
      },
      "execution_count": null,
      "outputs": []
    },
    {
      "cell_type": "code",
      "source": [
        "print(data)\n",
        "# dummy_data= data\n",
        "# dummy_data.append('twenty')\n",
        "# print(box1)"
      ],
      "metadata": {
        "colab": {
          "base_uri": "https://localhost:8080/"
        },
        "id": "HhVujbZ2RbQw",
        "outputId": "d0a86971-3e6a-4bbf-bd9b-eb233e470721"
      },
      "execution_count": null,
      "outputs": [
        {
          "output_type": "stream",
          "name": "stdout",
          "text": [
            "['effects', 'of', 'several', 'that', 'slide', 'choosing', 'background', 'parallax', 'consist', 'layers', 'each', 'other', 'by', 'over', 'a', 'the', 'the', 'first', 'layer', 'be', 'fixed', 'the', 'image', 'in', 'item', 'design', 'image', 'by', 'inserting', 'set', 'menu', 'can', 'a', 'as', 'the', 'widget', 'background', 'selected', 'widget', 'images', 'text', 'lphoto', 'monochromel', 'be', 'this', 'or', 'a', 'or', 'can', 'created', 'jimdo', 'width', 'of', 'background', 'be', 'in', 'creator', 'the', 'entire', 'the', 'and', 'thus', 'must', 'across', 'page', 'second', 'that', 'slides', 'the', 'first', 'of', 'this', 'the', 'following', 'the', 'layer', 'layer', 'an', 'example', 'is', 'represents', 'over', 'ntisinenaestidor', 'coml', 'ofthe', 'desired', 'the', 'look', 'leaves', 'lot', 'be', 'to', 'page', 'page', 'a', 'effect', 'but', 'the', 'parallax', 'is', 'quite', 'good', 'second', 'much', 'this', 'besides', 'this', 'parallax', 'there', 'is', 'elegant', 'parallax', 'allows', 'only', 'type', 'not', 'more', 'a', 'parallax', 'that', 'be', 'scrolled', 'background', 'but', 'only', 'pictures', 'also', 'that', 'not', 'or', 'can', 'over', 'a', 'many', 'a', 'scrolled', 'for', 'this', 'of', 'single', 'pictures', 'be', 'an', 'example', 'is', 'the', 'start', 'many', 'can', 'page', 'cant', 'created', 'jimdo', 'wwwhannahrohdede', 'which', 'created', 'however', 'be', 'directly', 'with', 'it', 'in', 'jimdo', 'widgets', 'requires', 'installation', 'html', 'code', 'lf', 'youl', 'interested', 'settingss', 'but', 'via', 'in', 're', 'or', 'an', 'such', 'parallax', 'feel', 'free', 'write', 'to', 'a', 'me']\n"
          ]
        }
      ]
    },
    {
      "cell_type": "code",
      "source": [
        "lis=['zero','one','two','three','four','five','six','seven','eight','nine','ten','eleven','twelve','thirteen','fourteen','fifteen','sixteen','seventeen','eighteen','nineteen','twenty','thirty','forty','fifty','sixty','seventy','eighty','ninety','hundred','thousand','lakh','crore','arab','million','billion','trillion']"
      ],
      "metadata": {
        "id": "KKaTpbAQP3W4"
      },
      "execution_count": null,
      "outputs": []
    },
    {
      "cell_type": "code",
      "source": [
        "# print(data.index('twenty'))"
      ],
      "metadata": {
        "id": "NPtOUGjhtnQz"
      },
      "execution_count": null,
      "outputs": []
    },
    {
      "cell_type": "code",
      "source": [
        "# print(data[186])"
      ],
      "metadata": {
        "id": "9Fq54f_mubXd"
      },
      "execution_count": null,
      "outputs": []
    },
    {
      "cell_type": "code",
      "source": [
        "num= []\n",
        "\n",
        "for word in data:\n",
        "  if word in lis:\n",
        "    num.append(word)"
      ],
      "metadata": {
        "id": "wYrxw2narNWU"
      },
      "execution_count": null,
      "outputs": []
    },
    {
      "cell_type": "code",
      "source": [
        "print(num)"
      ],
      "metadata": {
        "colab": {
          "base_uri": "https://localhost:8080/"
        },
        "id": "nkFwvIxErctH",
        "outputId": "44f7cfa2-1672-4b0b-a11d-6d0584d04f3a"
      },
      "execution_count": null,
      "outputs": [
        {
          "output_type": "stream",
          "name": "stdout",
          "text": [
            "[]\n"
          ]
        }
      ]
    },
    {
      "cell_type": "code",
      "source": [],
      "metadata": {
        "id": "APsr6bN6rxai"
      },
      "execution_count": null,
      "outputs": []
    },
    {
      "cell_type": "code",
      "source": [],
      "metadata": {
        "id": "Uhdp273I1BXZ"
      },
      "execution_count": null,
      "outputs": []
    }
  ]
}